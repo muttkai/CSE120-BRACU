{
 "cells": [
  {
   "cell_type": "code",
   "execution_count": 4,
   "id": "eefc4c8d",
   "metadata": {},
   "outputs": [
    {
     "ename": "SyntaxError",
     "evalue": "invalid syntax (<ipython-input-4-8fd22b56ab7c>, line 1)",
     "output_type": "error",
     "traceback": [
      "\u001b[1;36m  File \u001b[1;32m\"<ipython-input-4-8fd22b56ab7c>\"\u001b[1;36m, line \u001b[1;32m1\u001b[0m\n\u001b[1;33m    def my_dictionary = :\u001b[0m\n\u001b[1;37m                      ^\u001b[0m\n\u001b[1;31mSyntaxError\u001b[0m\u001b[1;31m:\u001b[0m invalid syntax\n"
     ]
    }
   ],
   "source": [
    "def my_dictionary = :\n",
    "    lit_my_dictionary={(a,b)for a,b in my_dictionary.items()}\n",
    "my_dictionary={'American': {'Actors': ('Tom Cruise', 'Leonardo \n",
    "DiCaprio'), 'Actresses': ('Scarlett Johansson', 'Angelina \n",
    "Jolie')}, 'Korean': {'Actors': ('Lee in-ho', 'Song Joong-ki','Choi \n",
    "Jin-hyuk')}, 'German': {'Actors': ('David Kross', 'Michael \n",
    "Fassbender'), 'Actresses':('Diana Kruger')}}\n",
    "print(my_dictionary)                                           "
   ]
  }
 ],
 "metadata": {
  "kernelspec": {
   "display_name": "Python 3",
   "language": "python",
   "name": "python3"
  },
  "language_info": {
   "codemirror_mode": {
    "name": "ipython",
    "version": 3
   },
   "file_extension": ".py",
   "mimetype": "text/x-python",
   "name": "python",
   "nbconvert_exporter": "python",
   "pygments_lexer": "ipython3",
   "version": "3.8.8"
  }
 },
 "nbformat": 4,
 "nbformat_minor": 5
}
