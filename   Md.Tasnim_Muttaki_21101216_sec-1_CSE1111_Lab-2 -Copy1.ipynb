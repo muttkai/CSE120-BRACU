{
 "cells": [
  {
   "cell_type": "code",
   "execution_count": 1,
   "id": "1e973fce",
   "metadata": {},
   "outputs": [
    {
     "name": "stdout",
     "output_type": "stream",
     "text": [
      "0.5\n",
      "0\n",
      "0\n"
     ]
    }
   ],
   "source": [
    "#Task_1:-\n",
    "def number_evide (numerator,denomerator):\n",
    "    if denomerator == 0:\n",
    "        return 0\n",
    "    else:\n",
    "        result = (numerator / denomerator)-(numerator // denomerator)\n",
    "        if result == 0.0 :\n",
    "            return 0\n",
    "        else:\n",
    "            return result\n",
    "print(number_evide(5,2))\n",
    "print(number_evide(5,0))\n",
    "print(number_evide(0,5))\n"
   ]
  },
  {
   "cell_type": "code",
   "execution_count": 2,
   "id": "104590f5",
   "metadata": {},
   "outputs": [
    {
     "name": "stdout",
     "output_type": "stream",
     "text": [
      "Score is 31.3. You are Obese\n",
      "Score is 20.8. You are Normal\n"
     ]
    }
   ],
   "source": [
    "#Task_2:-\n",
    "def BMI_Calc(height, weight):\n",
    "\n",
    "    height = height / 100  # Converting cm to meter\n",
    "    BMI = weight / height ** 2\n",
    "\n",
    "    if BMI < 18.5:\n",
    "        comment = \"Underweight\"\n",
    "    elif BMI >= 18.5 and BMI <= 24.9:\n",
    "        comment = \"Normal\"\n",
    "    elif BMI >= 25 and BMI <= 30:\n",
    "        comment = \"Overweight\"\n",
    "    elif BMI > 30:\n",
    "        comment = \"Obese\"\n",
    "\n",
    "    return f\"Score is {BMI:.1f}. You are {comment}\"\n",
    "\n",
    "\n",
    "print(BMI_Calc(175, 96))\n",
    "print(BMI_Calc(152, 48))"
   ]
  },
  {
   "cell_type": "code",
   "execution_count": 3,
   "id": "ecd0a9b0",
   "metadata": {},
   "outputs": [
    {
     "name": "stdout",
     "output_type": "stream",
     "text": [
      "20\n",
      "45\n"
     ]
    }
   ],
   "source": [
    "#Task_3:-\n",
    "def div_sum (min,max,div):\n",
    "    if div!=0:\n",
    "        return  sum(num for num in range (min,max) if num %div == 0)\n",
    "    else:\n",
    "        return 0\n",
    "print(div_sum(0, 10, 2))\n",
    "print(div_sum(3, 16, 3))"
   ]
  },
  {
   "cell_type": "code",
   "execution_count": 4,
   "id": "934f8662",
   "metadata": {},
   "outputs": [
    {
     "name": "stdout",
     "output_type": "stream",
     "text": [
      "223.6\n",
      "243.6\n"
     ]
    }
   ],
   "source": [
    "#Task_4:-\n",
    "def foodpanda(food, location=\"Mohakhali\"):\n",
    "\n",
    "    if location != \"Mohakhali\":\n",
    "        delivery_charge = 40\n",
    "    else:\n",
    "        delivery_charge = 60\n",
    "\n",
    "    if food == \"BBQ Chicken Chesse Burger\":\n",
    "        meal_cost = 250\n",
    "    elif food == \"Beef Burger\":\n",
    "        meal_cost = 170\n",
    "    elif food == \"Naga Drums\":\n",
    "        meal_cost = 200\n",
    "    else:\n",
    "        return \"The food is not on the Menu.\"\n",
    "\n",
    "    tax = meal_cost * (8 / 100)\n",
    "\n",
    "    Total_Price = meal_cost + delivery_charge + tax\n",
    "    return Total_Price\n",
    "\n",
    "\n",
    "print(foodpanda(\"Beef Burger\", \"Dhanmondi\"))\n",
    "print(foodpanda(\"Beef Burger\"))"
   ]
  },
  {
   "cell_type": "code",
   "execution_count": 5,
   "id": "06ff44c0",
   "metadata": {},
   "outputs": [
    {
     "name": "stdout",
     "output_type": "stream",
     "text": [
      "243.6\n",
      "223.6\n"
     ]
    }
   ],
   "source": [
    "#Task_4(1):-\n",
    "def foodpanda(food, location=\"Mohakhali\"):\n",
    "\n",
    "    if location != \"Mohakhali\":\n",
    "        delivery_charge = 60\n",
    "    else:\n",
    "        delivery_charge = 40\n",
    "\n",
    "    if food == \"BBQ Chicken Chesse Burger\":\n",
    "        meal_cost = 250\n",
    "    elif food == \"Beef Burger\":\n",
    "        meal_cost = 170\n",
    "    elif food == \"Naga Drums\":\n",
    "        meal_cost = 200\n",
    "    else:\n",
    "        return \"The food is not on the Menu.\"\n",
    "\n",
    "    tax = meal_cost * (8 / 100)\n",
    "\n",
    "    Total_Price = meal_cost + delivery_charge + tax\n",
    "    return Total_Price\n",
    "\n",
    "\n",
    "print(foodpanda(\"Beef Burger\", \"Dhanmondi\"))\n",
    "print(foodpanda(\"Beef Burger\"))"
   ]
  },
  {
   "cell_type": "code",
   "execution_count": 6,
   "id": "046ca871",
   "metadata": {},
   "outputs": [
    {
     "name": "stdout",
     "output_type": "stream",
     "text": [
      "Changed: alice@sheba.xyz\n",
      "Unchanged: bob@sheba.xyz\n"
     ]
    }
   ],
   "source": [
    "#Task_5:-\n",
    "def replace_domain(email, domain, old_domain=\"kaaj.com\"):\n",
    "\n",
    "    new_email = \"\"\n",
    "    index = -1\n",
    "    for char in range(len(email)):\n",
    "        if email[char] == \"@\":\n",
    "            index = char\n",
    "            break\n",
    "\n",
    " \n",
    "\n",
    "    new_email = email[: index + 1]\n",
    "\n",
    "    if old_domain in email:\n",
    "        new_email += domain\n",
    "        comment = \"Changed\"\n",
    "    else:\n",
    "        new_email += domain\n",
    "        comment = \"Unchanged\"\n",
    "\n",
    "    return f\"{comment}: {new_email}\"\n",
    "\n",
    "\n",
    "print(replace_domain(\"alice@kaaj.com\", \"sheba.xyz\", \"kaaj.com\"))\n",
    "print(replace_domain(\"bob@sheba.xyz\", \"sheba.xyz\"))"
   ]
  },
  {
   "cell_type": "code",
   "execution_count": 7,
   "id": "5da595c7",
   "metadata": {},
   "outputs": [
    {
     "name": "stdout",
     "output_type": "stream",
     "text": [
      "Vowels: e, e, o. Total number of vowels: 3\n",
      "No vowels in the name\n"
     ]
    }
   ],
   "source": [
    "#Task_6:-\n",
    "def vowel(string):\n",
    " \n",
    "    vowel = \"aeiouAEIOU\"\n",
    "    vowel_in, total = \"\" , 0\n",
    "\n",
    "    for char in string:\n",
    "        if char in vowel:\n",
    "            vowel_in += char + \", \"\n",
    "            total += 1\n",
    "\n",
    "    if total == 0:\n",
    "        return \"No vowels in the name\"\n",
    "    else:\n",
    "        return f\"Vowels: {vowel_in[:-2]}. Total number of vowels: {total}\"\n",
    "print(vowel(\"Steve Jobs\"))\n",
    "print(vowel(\"XYZ\"))"
   ]
  },
  {
   "cell_type": "code",
   "execution_count": 8,
   "id": "473e7c85",
   "metadata": {},
   "outputs": [
    {
     "name": "stdout",
     "output_type": "stream",
     "text": [
      "madam\n",
      "Palindrome\n"
     ]
    }
   ],
   "source": [
    "#Task_7:-\n",
    "def ispalindrome(word):\n",
    " \n",
    "    string = \"\"\n",
    "    for char in word:\n",
    "        if char != \" \":\n",
    "            string += char\n",
    "\n",
    "    if string == string[::-1]:\n",
    "        print(\"Palindrome\")\n",
    "    else:\n",
    "        print(\"Not a palindrome\")\n",
    "\n",
    "\n",
    "word = input().lower()\n",
    "ispalindrome(word)"
   ]
  },
  {
   "cell_type": "code",
   "execution_count": 9,
   "id": "b48032c6",
   "metadata": {},
   "outputs": [
    {
     "name": "stdout",
     "output_type": "stream",
     "text": [
      "11 years, 10 months and 5 days\n",
      "10 years, 11 months and 20 days\n"
     ]
    }
   ],
   "source": [
    "#Task_8:-\n",
    "def day_to_year(day):\n",
    " \n",
    "    year = day // 365\n",
    "    day = day % (year * 365)\n",
    "    month = day // 30\n",
    "    day = day % (month * 30)\n",
    "\n",
    "    return f\"{year} years, {month} months and {day} days\"\n",
    "\n",
    "\n",
    "print(day_to_year(4320))\n",
    "print(day_to_year(4000))"
   ]
  },
  {
   "cell_type": "code",
   "execution_count": 10,
   "id": "da206964",
   "metadata": {},
   "outputs": [
    {
     "name": "stdout",
     "output_type": "stream",
     "text": [
      "MY favourite animal is a dog. A dog has sharp teeth so that it can eat flesh very easily. Do you know my pet dog’s name? I love my pet very much.\n",
      "Please enter a valid string.\n"
     ]
    }
   ],
   "source": [
    "#Task_9:-\n",
    "\n",
    "def capitalize(string):\n",
    " \n",
    "    if string != \"\":\n",
    "        if string[0] >= chr(97) and string[0] <= chr(122):\n",
    "            capitalized_str = chr(ord(string[0]) - 32)\n",
    "        else:\n",
    "            capitalized_str = string[0]\n",
    "\n",
    "        for index in range(1, len(string)):\n",
    "            if (\n",
    "                string[index - 1] == \" \"\n",
    "                and string[index] == \"i\"\n",
    "                and string[index + 1] == \" \"\n",
    "            ):\n",
    "                capitalized_str += \"I\"\n",
    "\n",
    "            elif (\n",
    "                string[index - 2] == \".\"\n",
    "                or string[index - 2] == \"!\"\n",
    "                or string[index - 2] == \"?\"\n",
    "            ):\n",
    "                capitalized_str += chr(ord(string[index]) - 32)\n",
    "\n",
    "            else:\n",
    "                capitalized_str += string[index]\n",
    "\n",
    "        return capitalized_str\n",
    "\n",
    "    else:\n",
    "        return \"Please enter a valid string.\"\n",
    "\n",
    "\n",
    "print(\n",
    "    capitalize(\n",
    "        \"my favourite animal is a dog. a dog has sharp teeth so that it can eat flesh very easily. do you know my pet dog’s name? i love my pet very much.\"\n",
    "    )\n",
    ")\n",
    "\n",
    "print(capitalize(\"\"))"
   ]
  },
  {
   "cell_type": "code",
   "execution_count": null,
   "id": "f119fe27",
   "metadata": {},
   "outputs": [],
   "source": []
  }
 ],
 "metadata": {
  "kernelspec": {
   "display_name": "Python 3",
   "language": "python",
   "name": "python3"
  },
  "language_info": {
   "codemirror_mode": {
    "name": "ipython",
    "version": 3
   },
   "file_extension": ".py",
   "mimetype": "text/x-python",
   "name": "python",
   "nbconvert_exporter": "python",
   "pygments_lexer": "ipython3",
   "version": "3.8.8"
  }
 },
 "nbformat": 4,
 "nbformat_minor": 5
}
