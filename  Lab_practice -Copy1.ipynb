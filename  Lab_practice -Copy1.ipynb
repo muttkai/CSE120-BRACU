{
 "cells": [
  {
   "cell_type": "code",
   "execution_count": 11,
   "id": "df2d19c6",
   "metadata": {},
   "outputs": [
    {
     "name": "stdout",
     "output_type": "stream",
     "text": [
      "HOusE,ApplE,BaNaNa\n",
      "house,apple,banana\n"
     ]
    }
   ],
   "source": [
    "#LAB-1\n",
    "#String:\n",
    "#Task_1:-\n",
    "def case_converter(string):\n",
    "    upper_case = \"\"\n",
    "    lower_case = \"\"\n",
    "    for char in string:\n",
    "        if ord(char) >= 65 and ord(char) <= 90:\n",
    "            upper_case += char\n",
    "        else:\n",
    "            lower_case += char\n",
    "\n",
    "    total_upper = len(upper_case)\n",
    "    total_lower = len(lower_case)\n",
    "    if total_upper > total_lower:\n",
    "        return string.upper()\n",
    "    else:\n",
    "        return string.lower()\n",
    "\n",
    "\n",
    "user_input =input()\n",
    "result = case_converter(user_input)\n",
    "print(result)"
   ]
  },
  {
   "cell_type": "code",
   "execution_count": 1,
   "id": "0b806a52",
   "metadata": {},
   "outputs": [
    {
     "name": "stdout",
     "output_type": "stream",
     "text": [
      "Hello\n",
      "WORD\n"
     ]
    }
   ],
   "source": [
    "#Task-2:-\n",
    "def char_checker(string):\n",
    " \n",
    "    ref_str = \"0123456789\"\n",
    "    len_str = len(string)\n",
    "    count = 0\n",
    "\n",
    "    for i in string:\n",
    "        if i in ref_str:\n",
    "            count += 1\n",
    "\n",
    "    if count == 0:\n",
    "        print(\"WORD\")\n",
    "    elif count < len_str:\n",
    "        print(\"MIXED\")\n",
    "    elif count == len_str:\n",
    "        print(\"NUMBER\")\n",
    "\n",
    "\n",
    "user_input = input()\n",
    "char_checker(user_input)"
   ]
  },
  {
   "cell_type": "code",
   "execution_count": 2,
   "id": "1a3ec8cc",
   "metadata": {},
   "outputs": [
    {
     "name": "stdout",
     "output_type": "stream",
     "text": [
      "coDIng\n",
      "BLANK\n"
     ]
    }
   ],
   "source": [
    "#Task_3:-\n",
    "def lower_substr(string):\n",
    " \n",
    "    upper_count = sum(map(str.isupper, string))\n",
    "    if upper_count == 2:\n",
    "        for i in string:\n",
    "            if i.isupper():\n",
    "                start = string.find(i)\n",
    "                new_str = string.replace(i, i.lower())\n",
    "                break\n",
    "\n",
    "        for i in new_str:\n",
    "            if i.isupper():\n",
    "                end = new_str.find(i)\n",
    "                break\n",
    "\n",
    "        var = string[start + 1 : end]\n",
    "        if var != \"\":\n",
    "            print(var)\n",
    "        else:\n",
    "            print(\"BLANK\")\n",
    "\n",
    "    else:\n",
    "        print(\"More than 2 uppercase chracters\")\n",
    "\n",
    "\n",
    "user_input = input()\n",
    "lower_substr(user_input)"
   ]
  },
  {
   "cell_type": "code",
   "execution_count": 1,
   "id": "060898b2",
   "metadata": {},
   "outputs": [
    {
     "name": "stdout",
     "output_type": "stream",
     "text": [
      "The book is not too good!\n",
      "The book is not execellent!\n"
     ]
    }
   ],
   "source": [
    "#Task-4:-\n",
    "def replace_word(string):\n",
    "    pos = string.find(\"too good\")\n",
    "    if pos == -1:\n",
    "        print(string)\n",
    "    elif pos != -1:\n",
    "        new_str = string.replace(\"too good\", \"execellent\")\n",
    "        print(new_str)\n",
    "\n",
    "\n",
    "user_name = input()\n",
    "replace_word(user_name)"
   ]
  },
  {
   "cell_type": "code",
   "execution_count": 2,
   "id": "b7334bed",
   "metadata": {},
   "outputs": [
    {
     "name": "stdout",
     "output_type": "stream",
     "text": [
      "harry, hermione\n",
      "hrrhr\n"
     ]
    }
   ],
   "source": [
    "#Task-5:-\n",
    "def common_char(input_list):\n",
    " \n",
    "    if len(input_list[0]) < len(input_list[1]):\n",
    "        ref_str = input_list[1]\n",
    "        str_var = input_list[0]\n",
    "    else:\n",
    "        ref_str = input_list[0]\n",
    "        str_var = input_list[1]\n",
    "\n",
    "    new_str = \"\"\n",
    "    for i in str_var:\n",
    "        if i in ref_str:\n",
    "            new_str += i\n",
    "\n",
    "    for i in ref_str:\n",
    "        if i in str_var:\n",
    "            new_str += i\n",
    "\n",
    "    if new_str == \"\":\n",
    "        print(\"Nothing in common\")\n",
    "    else:\n",
    "        print(new_str)\n",
    "\n",
    "\n",
    "user_input = input().split(\",\")\n",
    "common_char(user_input)"
   ]
  },
  {
   "cell_type": "code",
   "execution_count": 3,
   "id": "fad986f7",
   "metadata": {},
   "outputs": [
    {
     "name": "stdout",
     "output_type": "stream",
     "text": [
      "OhMyBR@CU20 \n",
      "OK\n"
     ]
    }
   ],
   "source": [
    "#Task-6:-\n",
    "def is_Spec_Char(character):\n",
    "\n",
    "    spec_char = \"_$#@\"\n",
    "    if character in spec_char:\n",
    "        return True\n",
    "    else:\n",
    "        return False\n",
    "\n",
    "\n",
    "def password_checker(password):\n",
    "\n",
    "    lower_count = sum(map(str.islower, password))\n",
    "    upper_count = sum(map(str.isupper, password))\n",
    "    digit_count = sum(map(str.isdigit, password))\n",
    "    spec_count = sum(map(is_Spec_Char, password))\n",
    "\n",
    "    error = \"\"\n",
    "    if lower_count == 0:\n",
    "        error = \"Lowercase Chracter Missing\"\n",
    "\n",
    "    if upper_count == 0:\n",
    "        if error != \"\":\n",
    "            error += \", \"\n",
    "        error += \"Uppercase Chracter Missing\"\n",
    "\n",
    "    if digit_count == 0:\n",
    "        if error != \"\":\n",
    "            error += \", \"\n",
    "        error += \"Digit Missing\"\n",
    "\n",
    "    if spec_count == 0:\n",
    "        if error != \"\":\n",
    "            error += \", \"\n",
    "        error += \"Special Chracter Missing\"\n",
    "\n",
    "    if error == \"\":\n",
    "        print(\"OK\")\n",
    "    else:\n",
    "        print(error)\n",
    "\n",
    "\n",
    "password = input()\n",
    "password_checker(password)"
   ]
  },
  {
   "cell_type": "code",
   "execution_count": null,
   "id": "7bdd1189",
   "metadata": {},
   "outputs": [],
   "source": [
    "############List\n",
    "#Task-7:-\n",
    "def universal_list(number):\n",
    "    global ref_list\n",
    "    temp = [int(number)]\n",
    "    ref_list += temp\n",
    "\n",
    "\n",
    "user_input = input()\n",
    "ref_list = []\n",
    "while user_input != \"STOP\":\n",
    "    universal_list(user_input)\n",
    "    user_input = input()\n",
    "\n",
    "\n",
    "frequency = [[num, ref_list.count(num)] for num in ref_list]\n",
    "frequency = sorted(\n",
    "    frequency, key=lambda x: x[0]\n",
    ")\n",
    "\n",
    "sorted_frequency = []\n",
    "[\n",
    "    sorted_frequency.append(item) for item in frequency if item not in sorted_frequency\n",
    "]\n",
    "\n",
    "for inpt, outpt in sorted_frequency:\n",
    "    print(f\"{inpt} - {outpt} times\")"
   ]
  },
  {
   "cell_type": "code",
   "execution_count": 5,
   "id": "dcb0a7b2",
   "metadata": {},
   "outputs": [
    {
     "name": "stdout",
     "output_type": "stream",
     "text": [
      "4\n",
      "1 2 3 \n",
      "4 5 6\n",
      "10 11 12 \n",
      "7 8 9\n",
      "33\n",
      "[10, 11, 12]\n"
     ]
    }
   ],
   "source": [
    "#Task-8:-\n",
    "def sum_list(lst):\n",
    "\n",
    "    global max_sum, max_lst\n",
    "    lst_sum = sum(lst)\n",
    "    if lst_sum > max_sum:\n",
    "        max_sum = lst_sum\n",
    "        max_lst = lst\n",
    "\n",
    "\n",
    "N = int(input())\n",
    "max_sum = 0\n",
    "max_lst = []\n",
    "for i in range(N):\n",
    "    lst = [int(num) for num in input().split()]\n",
    "    sum_list(lst)\n",
    "\n",
    "print(max_sum)\n",
    "print(max_lst)"
   ]
  },
  {
   "cell_type": "code",
   "execution_count": 1,
   "id": "4434dc72",
   "metadata": {},
   "outputs": [
    {
     "name": "stdout",
     "output_type": "stream",
     "text": [
      "2 3 6 \n",
      "3 4 5 \n",
      "[6, 8, 10, 9, 12, 15, 18, 24, 30]\n"
     ]
    }
   ],
   "source": [
    "#Task-9:-\n",
    "def list_multiplication(lst_1, lst_2):\n",
    "     \n",
    "    return [(i * j) for i in lst_1 for j in lst_2]\n",
    "\n",
    "\n",
    "list_1 = [int(num) for num in input().split()]\n",
    "list_2 = [int(num) for num in input().split()]\n",
    "result = list_multiplication(list_1, list_2)\n",
    "print(result)"
   ]
  },
  {
   "cell_type": "code",
   "execution_count": 2,
   "id": "fa876654",
   "metadata": {},
   "outputs": [
    {
     "name": "stdout",
     "output_type": "stream",
     "text": [
      "1 4 2 3 \n",
      "2 1 4 1 6 10\n",
      "1 4 2 -1 6 \n",
      "STOP\n",
      "UB Jumper\n",
      "Not UB Jumper\n",
      "Not UB Jumper\n"
     ]
    }
   ],
   "source": [
    "#Task-10:-\n",
    "def UB_Jupmer(List):\n",
    "\n",
    "    ref_list = [num for num in range(1, len(List))]\n",
    "    abs_diff = []\n",
    "\n",
    "    for i in range(len(List) - 1):\n",
    "        elem = List[i] - List[i + 1]\n",
    "        elem = abs(elem)\n",
    "        abs_diff.append(elem)\n",
    "\n",
    "    if sorted(ref_list) == sorted(abs_diff):\n",
    "        return True\n",
    "    else:\n",
    "        return False\n",
    "\n",
    "\n",
    "user_input = input()\n",
    "result = []\n",
    "while user_input != \"STOP\":\n",
    "    List = [int(num) for num in user_input.split()]\n",
    "\n",
    "    if UB_Jupmer(List):\n",
    "        result.append(\"UB Jumper\")\n",
    "    else:\n",
    "        result.append(\"Not UB Jumper\")\n",
    "\n",
    "    user_input = input()\n",
    "\n",
    "for output in result:\n",
    "    print(output)"
   ]
  },
  {
   "cell_type": "code",
   "execution_count": 3,
   "id": "07148f8b",
   "metadata": {},
   "outputs": [
    {
     "name": "stdout",
     "output_type": "stream",
     "text": [
      "Bracu1234\n",
      "acruB1324\n"
     ]
    }
   ],
   "source": [
    "#Task-11:-\n",
    "def str_sort(str):\n",
    "\n",
    "    low_str, up_str, num_odd, num_even = \"\", \"\", \"\", \"\"\n",
    "    for char in str:\n",
    "        if char.islower():\n",
    "            low_str += char\n",
    "        if char.isupper():\n",
    "            up_str += char\n",
    "        if char.isdigit():\n",
    "            if char in [\"1\", \"3\", \"5\", \"7\", \"9\"]:\n",
    "                num_odd += char\n",
    "            else:\n",
    "                num_even += char\n",
    "\n",
    "    sorted_char = sorted(low_str)\n",
    "    low_str = \"\".join(sorted_char)\n",
    "\n",
    "    sorted_char = sorted(up_str)\n",
    "    up_str = \"\".join(sorted_char)\n",
    "\n",
    "    sorted_char = sorted(num_odd)\n",
    "    num_odd = \"\".join(sorted_char)\n",
    "\n",
    "    sorted_char = sorted(num_even)\n",
    "    num_even = \"\".join(sorted_char)\n",
    "\n",
    "    sorted_str = low_str + up_str + num_odd + num_even\n",
    "    print(sorted_str)\n",
    "\n",
    "\n",
    "unsorted = input()\n",
    "str_sort(unsorted)"
   ]
  },
  {
   "cell_type": "code",
   "execution_count": 4,
   "id": "ae54a342",
   "metadata": {},
   "outputs": [
    {
     "name": "stdout",
     "output_type": "stream",
     "text": [
      "5 2 \n",
      "0 4 5 1 0 \n",
      "1\n"
     ]
    }
   ],
   "source": [
    "#Task-12:-\n",
    "member_count, times = tuple(int(num) for num in input().split())\n",
    "joined_data = [int(i) for i in input().split()]\n",
    "\n",
    "while len(joined_data) != member_count:\n",
    "    print(\"Member count and member participation data doesn't match. Please enter member participation data again.\")\n",
    "    joined_data = [int(i) for i in input().split()]\n",
    "\n",
    "approved = [int(i) for i in joined_data if (i + times <= 5)]\n",
    "\n",
    "appr = len(approved)\n",
    "\n",
    "if appr < 3:\n",
    "    print(0)\n",
    "else:\n",
    "    if appr % 3 == 0:\n",
    "        print(appr // 3)\n",
    "    elif (appr - 1) % 3 == 0:\n",
    "        print((appr - 1) // 3)\n",
    "    elif (appr - 2) % 3 == 0:\n",
    "        print((appr - 2) // 3)"
   ]
  },
  {
   "cell_type": "code",
   "execution_count": 5,
   "id": "48e994b7",
   "metadata": {},
   "outputs": [
    {
     "name": "stdout",
     "output_type": "stream",
     "text": [
      "a: 100, b: 100, c: 200, d: 300 \n",
      "a: 300, b: 200, d: 400, e: 200\n",
      "{'a': 400, 'b': 300, 'c': 200, 'd': 700, 'e': 200}\n",
      "Values: (200, 300, 400, 700)\n"
     ]
    }
   ],
   "source": [
    "#Dictionary & Touple \n",
    "#Task-13:-\n",
    "def combine_dictionaries(dict_1, dict_2):\n",
    "\n",
    "    combined_dict = {}\n",
    "\n",
    "    for key in dict_1:\n",
    "        if key in dict_2:\n",
    "            new_value = dict_1[key] + dict_2[key]\n",
    "        else:\n",
    "            new_value = dict_1[key]\n",
    "\n",
    "        combined_dict[key] = new_value\n",
    "\n",
    "    for key in dict_2:\n",
    "        if key not in combined_dict:\n",
    "            combined_dict[key] = dict_2[key]\n",
    "\n",
    "    return combined_dict\n",
    "\n",
    "\n",
    "str_input_1 = input()   \n",
    "str_input_2 = input()   \n",
    "\n",
    "dict_1 = dict(\n",
    "    (x.strip(), int(y.strip()))\n",
    "    for x, y in (element.split(\":\") for element in str_input_1.split(\", \"))\n",
    ")\n",
    "\n",
    "dict_2 = dict(\n",
    "    (x.strip(), int(y.strip()))\n",
    "    for x, y in (element.split(\":\") for element in str_input_2.split(\", \"))\n",
    ")\n",
    "\n",
    "result = combine_dictionaries(dict_1, dict_2)\n",
    "unique_value = tuple(sorted(set(result[value] for value in result)))   \n",
    "print(result)\n",
    "print(f\"Values: {unique_value}\")"
   ]
  },
  {
   "cell_type": "code",
   "execution_count": 1,
   "id": "a03dcc87",
   "metadata": {},
   "outputs": [
    {
     "name": "stdout",
     "output_type": "stream",
     "text": [
      "10\n",
      "20\n",
      "20\n",
      "30\n",
      "10\n",
      "50\n",
      "90\n",
      "STOP\n",
      "10 - 2 times\n",
      "20 - 2 times\n",
      "30 - 1 times\n",
      "50 - 1 times\n",
      "90 - 1 times\n"
     ]
    }
   ],
   "source": [
    "#Task-14:-\n",
    "def input_frequency(number):\n",
    " \n",
    "    global ref_list\n",
    "    temp = [int(number)]\n",
    "    ref_list += temp\n",
    "    frequency = dict((num, ref_list.count(num)) for num in ref_list)\n",
    "    return frequency\n",
    "\n",
    "\n",
    "user_input = input()\n",
    "ref_list = []\n",
    "while user_input != \"STOP\":\n",
    "    result = input_frequency(user_input)\n",
    "    user_input = input()\n",
    "\n",
    "inpt = result.keys()\n",
    "inpt = sorted(inpt)\n",
    "\n",
    "for i in inpt:\n",
    "    print(f\"{i} - {result[i]} times\")"
   ]
  },
  {
   "cell_type": "code",
   "execution_count": 2,
   "id": "f2051d45",
   "metadata": {},
   "outputs": [
    {
     "name": "stdout",
     "output_type": "stream",
     "text": [
      "key1 : value1, key2 : value2, key3 : value1\n",
      "{'value1': ['key1', 'key3'], 'value2': ['key2']}\n"
     ]
    }
   ],
   "source": [
    "#Task-15:-\n",
    "def invert(dictionary):\n",
    "\n",
    "    Dict = {}\n",
    "    for item1, item2 in dictionary.items():\n",
    "        if item2 in Dict:\n",
    "            Dict[item2] = Dict[item2] + [item1]\n",
    "        else:\n",
    "            Dict[item2] = [item1]\n",
    "\n",
    "    return Dict\n",
    "\n",
    "\n",
    "str_input = (input())\n",
    "\n",
    "dictionary = dict((x.strip(), y.strip())\n",
    "    for x, y in (item.split(\":\") for item in str_input.split(\", \")))\n",
    "\n",
    "result = invert(dictionary)\n",
    "print(result)"
   ]
  },
  {
   "cell_type": "code",
   "execution_count": 3,
   "id": "08a8f541",
   "metadata": {},
   "outputs": [
    {
     "name": "stdout",
     "output_type": "stream",
     "text": [
      "evil\n",
      "live\n",
      "Those strings are anagrams.\n"
     ]
    }
   ],
   "source": [
    "#Task-16:-\n",
    "def count_dict(string):\n",
    " \n",
    "    dictionary = {}\n",
    "\n",
    "    for char in string:\n",
    "        if char == \" \":\n",
    "            continue\n",
    "        dictionary[char] = dictionary.get(char, 0) + 1\n",
    "\n",
    "    return dictionary\n",
    "\n",
    "\n",
    "user_input_1 = input()\n",
    "user_input_2 = input()\n",
    "\n",
    "dict_1 = count_dict(user_input_1)\n",
    "dict_2 = count_dict(user_input_2)\n",
    "\n",
    "if user_input_1 != user_input_2:\n",
    "    if dict_1 == dict_2:\n",
    "        print(\"Those strings are anagrams.\")\n",
    "    else:\n",
    "        print(\"Those strings are not anagrams.\")\n",
    "else:\n",
    "    print(\"Those strings are not anagrams.\")"
   ]
  },
  {
   "cell_type": "code",
   "execution_count": 4,
   "id": "b0801c9a",
   "metadata": {},
   "outputs": [
    {
     "name": "stdout",
     "output_type": "stream",
     "text": [
      "Hello,World!\n",
      "443355555566611966677755531111"
     ]
    }
   ],
   "source": [
    "#Task-17:-\n",
    "def key_map(string):\n",
    "\n",
    "    key_map = {\n",
    "        \".\": 1, \",\": 11, \"?\": 111, \"!\": 1111, \":\": 11111,\n",
    "        \"A\": 2, \"B\": 22, \"C\": 222,\n",
    "        \"D\": 3, \"E\": 33, \"F\": 333,\n",
    "        \"G\": 4, \"H\": 44, \"I\": 444,\n",
    "        \"J\": 5, \"K\": 55, \"L\": 555,\n",
    "        \"M\": 6, \"N\": 66, \"O\": 666,\n",
    "        \"P\": 7, \"Q\": 77, \"R\": 777, \"S\": 7777,\n",
    "        \"T\": 8, \"U\": 88, \"V\": 888,\n",
    "        \"W\": 9, \"X\": 99, \"Y\": 999, \"Z\": 9999,\n",
    "        \" \": 0\n",
    "    }\n",
    "    map = {2: \"ABC\", 3: \"DEF\"}\n",
    "\n",
    "\n",
    "    return key_map.get(string, f\"(No-Key-For:{string})\")\n",
    "\n",
    "user_input = input().upper()\n",
    "for char in user_input:\n",
    "    key = key_map(char)\n",
    "    print(key, end=\"\")"
   ]
  },
  {
   "cell_type": "code",
   "execution_count": 1,
   "id": "d9d1e28b",
   "metadata": {},
   "outputs": [
    {
     "name": "stdout",
     "output_type": "stream",
     "text": [
      "0.5\n",
      "0\n",
      "0\n"
     ]
    }
   ],
   "source": [
    "#LAB-2\n",
    "#Task_1:-\n",
    "def number_evide (numerator,denomerator):\n",
    "    if denomerator == 0:\n",
    "        return 0\n",
    "    else:\n",
    "        result = (numerator / denomerator)-(numerator // denomerator)\n",
    "        if result == 0.0 :\n",
    "            return 0\n",
    "        else:\n",
    "            return result\n",
    "print(number_evide(5,2))\n",
    "print(number_evide(5,0))\n",
    "print(number_evide(0,5))\n"
   ]
  },
  {
   "cell_type": "code",
   "execution_count": 2,
   "id": "79335889",
   "metadata": {},
   "outputs": [
    {
     "name": "stdout",
     "output_type": "stream",
     "text": [
      "Score is 31.3. You are Obese\n",
      "Score is 20.8. You are Normal\n"
     ]
    }
   ],
   "source": [
    "#Task_2:-\n",
    "def BMI_Calc(height, weight):\n",
    "\n",
    "    height = height / 100  # Converting cm to meter\n",
    "    BMI = weight / height ** 2\n",
    "\n",
    "    if BMI < 18.5:\n",
    "        comment = \"Underweight\"\n",
    "    elif BMI >= 18.5 and BMI <= 24.9:\n",
    "        comment = \"Normal\"\n",
    "    elif BMI >= 25 and BMI <= 30:\n",
    "        comment = \"Overweight\"\n",
    "    elif BMI > 30:\n",
    "        comment = \"Obese\"\n",
    "\n",
    "    return f\"Score is {BMI:.1f}. You are {comment}\"\n",
    "\n",
    "\n",
    "print(BMI_Calc(175, 96))\n",
    "print(BMI_Calc(152, 48))"
   ]
  },
  {
   "cell_type": "code",
   "execution_count": 3,
   "id": "0742fe17",
   "metadata": {},
   "outputs": [
    {
     "name": "stdout",
     "output_type": "stream",
     "text": [
      "20\n",
      "45\n"
     ]
    }
   ],
   "source": [
    "#Task_3:-\n",
    "def div_sum (min,max,div):\n",
    "    if div!=0:\n",
    "        return  sum(num for num in range (min,max) if num %div == 0)\n",
    "    else:\n",
    "        return 0\n",
    "print(div_sum(0, 10, 2))\n",
    "print(div_sum(3, 16, 3))"
   ]
  },
  {
   "cell_type": "code",
   "execution_count": 4,
   "id": "bb076005",
   "metadata": {},
   "outputs": [
    {
     "name": "stdout",
     "output_type": "stream",
     "text": [
      "223.6\n",
      "243.6\n"
     ]
    }
   ],
   "source": [
    "#Task_4:-\n",
    "def foodpanda(food, location=\"Mohakhali\"):\n",
    "\n",
    "    if location != \"Mohakhali\":\n",
    "        delivery_charge = 40\n",
    "    else:\n",
    "        delivery_charge = 60\n",
    "\n",
    "    if food == \"BBQ Chicken Chesse Burger\":\n",
    "        meal_cost = 250\n",
    "    elif food == \"Beef Burger\":\n",
    "        meal_cost = 170\n",
    "    elif food == \"Naga Drums\":\n",
    "        meal_cost = 200\n",
    "    else:\n",
    "        return \"The food is not on the Menu.\"\n",
    "\n",
    "    tax = meal_cost * (8 / 100)\n",
    "\n",
    "    Total_Price = meal_cost + delivery_charge + tax\n",
    "    return Total_Price\n",
    "\n",
    "\n",
    "print(foodpanda(\"Beef Burger\", \"Dhanmondi\"))\n",
    "print(foodpanda(\"Beef Burger\"))"
   ]
  },
  {
   "cell_type": "code",
   "execution_count": 5,
   "id": "2021e307",
   "metadata": {},
   "outputs": [
    {
     "name": "stdout",
     "output_type": "stream",
     "text": [
      "243.6\n",
      "223.6\n"
     ]
    }
   ],
   "source": [
    "#Task_4(1):-\n",
    "def foodpanda(food, location=\"Mohakhali\"):\n",
    "\n",
    "    if location != \"Mohakhali\":\n",
    "        delivery_charge = 60\n",
    "    else:\n",
    "        delivery_charge = 40\n",
    "\n",
    "    if food == \"BBQ Chicken Chesse Burger\":\n",
    "        meal_cost = 250\n",
    "    elif food == \"Beef Burger\":\n",
    "        meal_cost = 170\n",
    "    elif food == \"Naga Drums\":\n",
    "        meal_cost = 200\n",
    "    else:\n",
    "        return \"The food is not on the Menu.\"\n",
    "\n",
    "    tax = meal_cost * (8 / 100)\n",
    "\n",
    "    Total_Price = meal_cost + delivery_charge + tax\n",
    "    return Total_Price\n",
    "\n",
    "\n",
    "print(foodpanda(\"Beef Burger\", \"Dhanmondi\"))\n",
    "print(foodpanda(\"Beef Burger\"))"
   ]
  },
  {
   "cell_type": "code",
   "execution_count": 1,
   "id": "272035bd",
   "metadata": {},
   "outputs": [
    {
     "name": "stdout",
     "output_type": "stream",
     "text": [
      "Changed: alice@sheba.xyz\n",
      "Unchanged: bob@sheba.xyz\n"
     ]
    }
   ],
   "source": [
    "#Task_5:-\n",
    "def replace_domain(email, domain, old_domain=\"kaaj.com\"):\n",
    "\n",
    "    new_email = \"\"\n",
    "    index = -1\n",
    "    for char in range(len(email)):\n",
    "        if email[char] == \"@\":\n",
    "            index = char\n",
    "            break\n",
    "\n",
    " \n",
    "\n",
    "    new_email = email[: index + 1]\n",
    "\n",
    "    if old_domain in email:\n",
    "        new_email += domain\n",
    "        comment = \"Changed\"\n",
    "    else:\n",
    "        new_email += domain\n",
    "        comment = \"Unchanged\"\n",
    "\n",
    "    return f\"{comment}: {new_email}\"\n",
    "\n",
    "\n",
    "print(replace_domain(\"alice@kaaj.com\", \"sheba.xyz\", \"kaaj.com\"))\n",
    "print(replace_domain(\"bob@sheba.xyz\", \"sheba.xyz\"))\n"
   ]
  },
  {
   "cell_type": "code",
   "execution_count": 2,
   "id": "85cb938c",
   "metadata": {},
   "outputs": [
    {
     "name": "stdout",
     "output_type": "stream",
     "text": [
      "Vowels: e, e, o. Total number of vowels: 3\n",
      "No vowels in the name\n"
     ]
    }
   ],
   "source": [
    "#Task_6:-\n",
    "def vowel(string):\n",
    " \n",
    "    vowel = \"aeiouAEIOU\"\n",
    "    vowel_in, total = \"\" , 0\n",
    "\n",
    "    for char in string:\n",
    "        if char in vowel:\n",
    "            vowel_in += char + \", \"\n",
    "            total += 1\n",
    "\n",
    "    if total == 0:\n",
    "        return \"No vowels in the name\"\n",
    "    else:\n",
    "        return f\"Vowels: {vowel_in[:-2]}. Total number of vowels: {total}\"\n",
    "print(vowel(\"Steve Jobs\"))\n",
    "print(vowel(\"XYZ\"))"
   ]
  },
  {
   "cell_type": "code",
   "execution_count": 3,
   "id": "24121fbf",
   "metadata": {},
   "outputs": [
    {
     "name": "stdout",
     "output_type": "stream",
     "text": [
      "madam\n",
      "Palindrome\n"
     ]
    }
   ],
   "source": [
    "#Task_7:-\n",
    "def ispalindrome(word):\n",
    " \n",
    "    string = \"\"\n",
    "    for char in word:\n",
    "        if char != \" \":\n",
    "            string += char\n",
    "\n",
    "    if string == string[::-1]:\n",
    "        print(\"Palindrome\")\n",
    "    else:\n",
    "        print(\"Not a palindrome\")\n",
    "\n",
    "\n",
    "word = input().lower()\n",
    "ispalindrome(word)"
   ]
  },
  {
   "cell_type": "code",
   "execution_count": 4,
   "id": "895f8f02",
   "metadata": {},
   "outputs": [
    {
     "name": "stdout",
     "output_type": "stream",
     "text": [
      "11 years, 10 months and 5 days\n",
      "10 years, 11 months and 20 days\n"
     ]
    }
   ],
   "source": [
    "#Task_8:-\n",
    "def day_to_year(day):\n",
    " \n",
    "    year = day // 365\n",
    "    day = day % (year * 365)\n",
    "    month = day // 30\n",
    "    day = day % (month * 30)\n",
    "\n",
    "    return f\"{year} years, {month} months and {day} days\"\n",
    "\n",
    "\n",
    "print(day_to_year(4320))\n",
    "print(day_to_year(4000))"
   ]
  },
  {
   "cell_type": "code",
   "execution_count": 5,
   "id": "0acfa18f",
   "metadata": {},
   "outputs": [
    {
     "name": "stdout",
     "output_type": "stream",
     "text": [
      "MY favourite animal is a dog. A dog has sharp teeth so that it can eat flesh very easily. Do you know my pet dog’s name? I love my pet very much.\n",
      "Please enter a valid string.\n"
     ]
    }
   ],
   "source": [
    "#Task_9:-\n",
    "\n",
    "def capitalize(string):\n",
    " \n",
    "    if string != \"\":\n",
    "        if string[0] >= chr(97) and string[0] <= chr(122):\n",
    "            capitalized_str = chr(ord(string[0]) - 32)\n",
    "        else:\n",
    "            capitalized_str = string[0]\n",
    "\n",
    "        for index in range(1, len(string)):\n",
    "            if (\n",
    "                string[index - 1] == \" \"\n",
    "                and string[index] == \"i\"\n",
    "                and string[index + 1] == \" \"\n",
    "            ):\n",
    "                capitalized_str += \"I\"\n",
    "\n",
    "            elif (\n",
    "                string[index - 2] == \".\"\n",
    "                or string[index - 2] == \"!\"\n",
    "                or string[index - 2] == \"?\"\n",
    "            ):\n",
    "                capitalized_str += chr(ord(string[index]) - 32)\n",
    "\n",
    "            else:\n",
    "                capitalized_str += string[index]\n",
    "\n",
    "        return capitalized_str\n",
    "\n",
    "    else:\n",
    "        return \"Please enter a valid string.\"\n",
    "\n",
    "\n",
    "print(\n",
    "    capitalize(\n",
    "        \"my favourite animal is a dog. a dog has sharp teeth so that it can eat flesh very easily. do you know my pet dog’s name? i love my pet very much.\"\n",
    "    )\n",
    ")\n",
    "\n",
    "print(capitalize(\"\"))"
   ]
  }
 ],
 "metadata": {
  "kernelspec": {
   "display_name": "Python 3",
   "language": "python",
   "name": "python3"
  },
  "language_info": {
   "codemirror_mode": {
    "name": "ipython",
    "version": 3
   },
   "file_extension": ".py",
   "mimetype": "text/x-python",
   "name": "python",
   "nbconvert_exporter": "python",
   "pygments_lexer": "ipython3",
   "version": "3.8.8"
  }
 },
 "nbformat": 4,
 "nbformat_minor": 5
}
