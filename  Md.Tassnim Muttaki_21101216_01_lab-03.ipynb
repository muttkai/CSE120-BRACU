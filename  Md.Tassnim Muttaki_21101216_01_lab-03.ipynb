{
 "cells": [
  {
   "cell_type": "code",
   "execution_count": 3,
   "id": "381feb4e",
   "metadata": {},
   "outputs": [
    {
     "name": "stdout",
     "output_type": "stream",
     "text": [
      "integer\n",
      "1234\n",
      "==============================\n",
      "string\n",
      "Hello\n",
      "===============================\n",
      "float\n",
      "4.0\n",
      "===============================\n"
     ]
    }
   ],
   "source": [
    "#Task-1\n",
    "class Data_type:\n",
    "    def __init__(self,name, value):\n",
    "        self.name=name\n",
    "        self.value=value\n",
    "data_type_1 = Data_type(\"integer\",1234)\n",
    "print(data_type_1.name)\n",
    "print(data_type_1.value)\n",
    "print(\"==============================\")\n",
    "data_type_2=Data_type(\"string\",\"Hello\")\n",
    "print(data_type_2.name)\n",
    "print(data_type_2.value)\n",
    "print(\"===============================\")\n",
    "data_type_3=Data_type(\"float\",4.0)\n",
    "print(data_type_3.name)\n",
    "print(data_type_3.value)\n",
    "print(\"===============================\")"
   ]
  },
  {
   "cell_type": "code",
   "execution_count": 4,
   "id": "a18d3494",
   "metadata": {},
   "outputs": [
    {
     "name": "stdout",
     "output_type": "stream",
     "text": [
      "Name of this flower: Rose\n",
      "Colour of this flower: Red\n",
      "Number of petal: 6\n",
      "=========================================\n",
      "Name of this flower: Orchid\n",
      "Colour of this flower: Purple\n",
      "Number of petal: 4\n"
     ]
    }
   ],
   "source": [
    "#Task_2\n",
    "class Flower:\n",
    "    def __init__(self):\n",
    "        pass\n",
    "flower_1 = Flower()\n",
    "flower_1.name = \"Rose\"\n",
    "flower_1.colour = \"Red\"\n",
    "flower_1.num_of_petal = 6\n",
    "print(\"Name of this flower:\",flower_1.name)\n",
    "print(\"Colour of this flower:\",flower_1.colour)\n",
    "print(\"Number of petal:\", flower_1.num_of_petal)\n",
    "print(\"=========================================\")\n",
    "flower_2 = Flower()\n",
    "flower_2.name = \"Orchid\"\n",
    "flower_2.colour = \"Purple\"\n",
    "flower_2.num_of_petal = 4\n",
    "print(\"Name of this flower:\",flower_2.name)\n",
    "print(\"Colour of this flower:\",flower_2.colour)\n",
    "print(\"Number of petal:\", flower_2.num_of_petal)"
   ]
  },
  {
   "cell_type": "code",
   "execution_count": 7,
   "id": "367908bd",
   "metadata": {},
   "outputs": [
    {
     "name": "stdout",
     "output_type": "stream",
     "text": [
      "Part 1\n",
      "Name of the President:Aladeen\n",
      "Designation:President Prime Minister Admiral General\n",
      "Number of wifes100\n",
      "Is he/she a director:True\n",
      "Part 1\n",
      "Name of the President:Dnald Trump\n",
      "Designation:President\n",
      "Number of wifes1\n",
      "Is he/she a director:False\n"
     ]
    }
   ],
   "source": [
    "#Task_3\n",
    "class Wadiya:\n",
    "    def __init__(self):\n",
    "        self.name = \"Aladeen\"\n",
    "        self.designation = 'President Prime Minister Admiral General'\n",
    "        self.num_of_wife = \"100\"\n",
    "        self.director = \"True\"\n",
    "Wadiya=Wadiya()\n",
    "print(\"Part 1\")\n",
    "print(f\"Name of the President:{Wadiya.name}\")\n",
    "print(f\"Designation:{Wadiya.designation}\")\n",
    "print(f\"Number of wifes{Wadiya.num_of_wife}\")\n",
    "print(f\"Is he/she a director:{Wadiya.director}\")\n",
    "Wadiya.name = \"Dnald Trump\"\n",
    "Wadiya.designation = 'President'\n",
    "Wadiya.num_of_wife = \"1\"\n",
    "Wadiya.director = \"False\"\n",
    "print(\"Part 1\")\n",
    "print(f\"Name of the President:{Wadiya.name}\")\n",
    "print(f\"Designation:{Wadiya.designation}\")\n",
    "print(f\"Number of wifes{Wadiya.num_of_wife}\")\n",
    "print(f\"Is he/she a director:{Wadiya.director}\")"
   ]
  },
  {
   "cell_type": "code",
   "execution_count": 13,
   "id": "a581e2af",
   "metadata": {},
   "outputs": [
    {
     "name": "stdout",
     "output_type": "stream",
     "text": [
      "Heath Ledger\n",
      "Mind Game\n",
      "False\n",
      "=====================\n",
      "Joaquin Phoenix\n",
      "Laughing out Loud\n",
      "True\n",
      "=====================\n",
      "different\n",
      "same\n"
     ]
    }
   ],
   "source": [
    "#Task_4\n",
    "class Joker:\n",
    "    def __init__(self, name, power, is_he_psycho):\n",
    "        self.name = name\n",
    "        self.power = power\n",
    "        self.is_he_psycho = is_he_psycho\n",
    "\n",
    "\n",
    "j1 = Joker(\"Heath Ledger\", \"Mind Game\", False)\n",
    "print(j1.name)\n",
    "print(j1.power)\n",
    "print(j1.is_he_psycho)\n",
    "print(\"=====================\")\n",
    "j2 = Joker(\"Joaquin Phoenix\", \"Laughing out Loud\", True)\n",
    "print(j2.name)\n",
    "print(j2.power)\n",
    "print(j2.is_he_psycho)\n",
    "print(\"=====================\")\n",
    "\n",
    "if j1 == j2:\n",
    "    print(\"same\")\n",
    "else:\n",
    "    print(\"different\")\n",
    "\n",
    "j2.name = \"Heath Ledger\"\n",
    "print(\"same\")"
   ]
  },
  {
   "cell_type": "code",
   "execution_count": 14,
   "id": "83d0f763",
   "metadata": {},
   "outputs": [
    {
     "name": "stdout",
     "output_type": "stream",
     "text": [
      "=======Team 1=======\n",
      "Pokemon 1: pikachu 90\n",
      "Pokemon 2: charmander 60\n",
      "Combined Power: 1500\n",
      "=======Team 2=======\n",
      "Pokemon 1: bulbasaur 80\n",
      "Pokemon 2: squirtle 70\n",
      "Combined Power: 1350\n"
     ]
    }
   ],
   "source": [
    "#Task_5\n",
    "class Pokemon:\n",
    "    def __init__(\n",
    "        self, pokemon1_name, pokemon2_name, pokemon1_power, pokemon2_power, damage_rate\n",
    "    ):\n",
    "        self.pokemon1_name = pokemon1_name\n",
    "        self.pokemon2_name = pokemon2_name\n",
    "        self.pokemon1_power = pokemon1_power\n",
    "        self.pokemon2_power = pokemon2_power\n",
    "        self.damage_rate = damage_rate\n",
    "\n",
    "\n",
    "team_pika = Pokemon(\"pikachu\", \"charmander\", 90, 60, 10)\n",
    "print(\"=======Team 1=======\")\n",
    "print(\"Pokemon 1:\", team_pika.pokemon1_name, team_pika.pokemon1_power)\n",
    "print(\"Pokemon 2:\", team_pika.pokemon2_name, team_pika.pokemon2_power)\n",
    "pika_combined_power = (\n",
    "    team_pika.pokemon1_power + team_pika.pokemon2_power\n",
    ") * team_pika.damage_rate\n",
    "print(\"Combined Power:\", pika_combined_power)\n",
    "# ============================================================================== #\n",
    "team_bulb = Pokemon(\"bulbasaur\", \"squirtle\", 80, 70, 9)\n",
    "print(\"=======Team 2=======\")\n",
    "print(\"Pokemon 1:\", team_bulb.pokemon1_name, team_bulb.pokemon1_power)\n",
    "print(\"Pokemon 2:\", team_bulb.pokemon2_name, team_bulb.pokemon2_power)\n",
    "bulb_combined_power = (\n",
    "    team_bulb.pokemon1_power + team_bulb.pokemon2_power\n",
    ") * team_bulb.damage_rate\n",
    "print(\"Combined Power:\", bulb_combined_power)"
   ]
  },
  {
   "cell_type": "code",
   "execution_count": 15,
   "id": "f5e9cbe0",
   "metadata": {},
   "outputs": [
    {
     "name": "stdout",
     "output_type": "stream",
     "text": [
      "Name of the Player: Ronaldo\n",
      "Jersey Number of player: 9\n",
      "Position of player: Striker\n",
      "===========================\n",
      "Name of the player: Neuer\n",
      "Jersey Number of player: 1\n",
      "Position of player: Goal Keeper\n"
     ]
    }
   ],
   "source": [
    "#Task_6\n",
    "class Player:\n",
    "    def __init__(self):\n",
    "        pass\n",
    "player1 = Player()\n",
    "player1.name = \"Ronaldo\"\n",
    "player1.jersy_number = 9\n",
    "player1.position = \"Striker\"\n",
    "print(\"Name of the Player:\", player1.name)\n",
    "print(\"Jersey Number of player:\", player1.jersy_number)\n",
    "print(\"Position of player:\", player1.position)\n",
    "print(\"===========================\")\n",
    "player2 = Player()\n",
    "player2.name = \"Neuer\"\n",
    "player2.jersy_number = 1\n",
    "player2.position = \"Goal Keeper\"\n",
    "print(\"Name of the player:\", player2.name)\n",
    "print(\"Jersey Number of player:\", player2.jersy_number)\n",
    "print(\"Position of player:\", player2.position)"
   ]
  },
  {
   "cell_type": "code",
   "execution_count": 16,
   "id": "94933051",
   "metadata": {},
   "outputs": [
    {
     "name": "stdout",
     "output_type": "stream",
     "text": [
      "Name: Bangladesh\n",
      "Continent: Asia\n",
      "Capital: Dhaka\n",
      "Fifa Ranking: 187\n",
      "===================\n",
      "Name: Belgium\n",
      "Continent: Europe\n",
      "Capital: Brussels\n",
      "Fifa Ranking: 1\n"
     ]
    }
   ],
   "source": [
    "#Task_7\n",
    "class Country:\n",
    "    def __init__(self):\n",
    "        self.name = \"Bangladesh\"\n",
    "        self.continent = \"Asia\"\n",
    "        self.capital = \"Dhaka\"\n",
    "        self.fifa_ranking = 187\n",
    "\n",
    "\n",
    "country = Country()\n",
    "print(\"Name:\", country.name)\n",
    "print(\"Continent:\", country.continent)\n",
    "print(\"Capital:\", country.capital)\n",
    "print(\"Fifa Ranking:\", country.fifa_ranking)\n",
    "print(\"===================\")\n",
    "country.name = \"Belgium\"\n",
    "country.continent = \"Europe\"\n",
    "country.capital = \"Brussels\"\n",
    "country.fifa_ranking = 1\n",
    "print(\"Name:\", country.name)\n",
    "print(\"Continent:\", country.continent)\n",
    "print(\"Capital:\", country.capital)\n",
    "print(\"Fifa Ranking:\", country.fifa_ranking)"
   ]
  },
  {
   "cell_type": "code",
   "execution_count": 17,
   "id": "568433d7",
   "metadata": {},
   "outputs": [
    {
     "name": "stdout",
     "output_type": "stream",
     "text": [
      "Name: Tanjiro\n",
      "Fighting Style: Water Breathing\n",
      "Knows 10 technique(s) and has killed 10 demon(s)\n",
      "===================\n",
      "Name: Zenitsu\n",
      "Fighting Style: Thunder Breathing\n",
      "Knows 1 technique(s) and has killed 4 demon(s)\n",
      "===================\n",
      "Name: Inosuke\n",
      "Fighting Style: Beast Breathing\n",
      "Knows 5 technique(s) and has killed 7 demon(s)\n",
      "===================\n",
      "Tanjiro, Zenitsu, Inosuke knows total 16 techniques\n",
      "They have killed total 21 demons\n"
     ]
    }
   ],
   "source": [
    "#Task_8\n",
    "class DemonSlayer:\n",
    "    def __init__(self, name, style, number_of_technique, kill):\n",
    "        self.name = name\n",
    "        self.style = style\n",
    "        self.number_of_technique = number_of_technique\n",
    "        self.kill = kill\n",
    "\n",
    "\n",
    "tanjiro = DemonSlayer(\"Tanjiro\", \"Water Breathing\", 10, 10)\n",
    "print(\"Name:\", tanjiro.name)\n",
    "print(\"Fighting Style:\", tanjiro.style)\n",
    "print(f\"Knows {tanjiro.number_of_technique} technique(s) and has killed {tanjiro.kill} demon(s)\")\n",
    "print(\"===================\")\n",
    "zenitsu = DemonSlayer(\"Zenitsu\", \"Thunder Breathing\", 1, 4)\n",
    "print(\"Name:\", zenitsu.name)\n",
    "print(\"Fighting Style:\", zenitsu.style)\n",
    "print(f\"Knows {zenitsu.number_of_technique} technique(s) and has killed {zenitsu.kill} demon(s)\")\n",
    "print(\"===================\")\n",
    "inosuke = DemonSlayer(\"Inosuke\", \"Beast Breathing\", 5, 7)\n",
    "print(\"Name:\", inosuke.name)\n",
    "print(\"Fighting Style:\", inosuke.style)\n",
    "print(f\"Knows {inosuke.number_of_technique} technique(s) and has killed {inosuke.kill} demon(s)\")\n",
    "print(\"===================\")\n",
    "print(f\"{tanjiro.name}, {zenitsu.name}, {inosuke.name} knows total {tanjiro.number_of_technique + zenitsu.number_of_technique + inosuke.number_of_technique} techniques\")\n",
    "print(f\"They have killed total {tanjiro.kill + zenitsu.kill + inosuke.kill} demons\")"
   ]
  },
  {
   "cell_type": "code",
   "execution_count": null,
   "id": "be6ec29b",
   "metadata": {},
   "outputs": [],
   "source": []
  }
 ],
 "metadata": {
  "kernelspec": {
   "display_name": "Python 3",
   "language": "python",
   "name": "python3"
  },
  "language_info": {
   "codemirror_mode": {
    "name": "ipython",
    "version": 3
   },
   "file_extension": ".py",
   "mimetype": "text/x-python",
   "name": "python",
   "nbconvert_exporter": "python",
   "pygments_lexer": "ipython3",
   "version": "3.8.8"
  }
 },
 "nbformat": 4,
 "nbformat_minor": 5
}
